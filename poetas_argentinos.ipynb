{
  "nbformat": 4,
  "nbformat_minor": 0,
  "metadata": {
    "colab": {
      "provenance": [],
      "authorship_tag": "ABX9TyM4PR0K2kjAQzZKvRMOtorn",
      "include_colab_link": true
    },
    "kernelspec": {
      "name": "python3",
      "display_name": "Python 3"
    },
    "language_info": {
      "name": "python"
    }
  },
  "cells": [
    {
      "cell_type": "markdown",
      "metadata": {
        "id": "view-in-github",
        "colab_type": "text"
      },
      "source": [
        "<a href=\"https://colab.research.google.com/github/osirisizs/Poetas_Argentinos/blob/main/poetas_argentinos.ipynb\" target=\"_parent\"><img src=\"https://colab.research.google.com/assets/colab-badge.svg\" alt=\"Open In Colab\"/></a>"
      ]
    },
    {
      "cell_type": "markdown",
      "source": [
        "<center>\n",
        "<p><img src=\"https://mcd.unison.mx/wp-content/themes/awaken/img/logo_mcd.png\" width=\"150\">\n",
        "</p>\n",
        "\n",
        "\n",
        "\n",
        "# Curso *Ingeniería de Características*\n",
        "\n",
        "### Descargando datos en XML\n",
        "####*Poetas Argentinos*\n",
        "\n",
        "\n",
        "<p> Osiris Izaguirre </p>\n"
      ],
      "metadata": {
        "id": "SjBqSH6xvUME"
      }
    },
    {
      "cell_type": "markdown",
      "source": [
        "1. Importamos las librerias necesarias para el manejo de datos:"
      ],
      "metadata": {
        "id": "Phisd6sM0GqD"
      }
    },
    {
      "cell_type": "code",
      "source": [
        "import os  # Para manejo de archivos y directorios\n",
        "import urllib.request # Una forma estandar de descargar datos\n",
        "# import requests # Otra forma no de las librerías de uso comun\n",
        "\n",
        "import datetime # Fecha de descarga\n",
        "import pandas as pd # Solo para ver el archivo descargado\n",
        "import zipfile # Descompresión de archivos"
      ],
      "metadata": {
        "id": "CUDvvz5o0L0N"
      },
      "execution_count": 2,
      "outputs": []
    },
    {
      "cell_type": "markdown",
      "source": [
        "2. Descargamos la información en XML sobre poetas argentinos encontrada en Wikipedia para su exploración:"
      ],
      "metadata": {
        "id": "Fe5IwEjBv4XE"
      }
    },
    {
      "cell_type": "code",
      "execution_count": null,
      "metadata": {
        "id": "49qOWZFUvKch"
      },
      "outputs": [],
      "source": [
        "import xml.etree.ElementTree as et \n",
        "\n",
        "archivo_url = \"https://github.com/mcd-unison/ing-caract/raw/main/ejemplos/integracion/ejemplos/wikipedia-poetas.xml\"\n",
        "archivo_nombre = \"poetas_argentinos.xml\"\n",
        "subdir = \"./data/\"\n",
        "\n",
        "if not os.path.exists(subdir + archivo_nombre):\n",
        "    if not os.path.exists(subdir):\n",
        "        os.makedirs(subdir)\n",
        "    urllib.request.urlretrieve(archivo_url, subdir + archivo_nombre)\n",
        "\n",
        "\n",
        "poetas = et.parse(subdir + archivo_nombre)\n",
        "root = poetas.getroot()\n",
        "\n",
        "for (i, poets) in enumerate(root):\n",
        "    print(\"Opción {}:\".format(i+1))\n",
        "    for poet in poets:\n",
        "        print(\"\\t{}: {}\".format(poet.tag, poet.text.strip()))\n",
        "\n",
        "# Se puede buscar por etiquetas y subetiquetas\n",
        "\n",
        "print(\"Los poetas disponibles son: \" + \n",
        "      \", \".join([poet.text for poets in poetas.findall(\"page/title\")]))"
      ]
    },
    {
      "cell_type": "markdown",
      "source": [
        "3. Generamos un DataFrame con Pandas: "
      ],
      "metadata": {
        "id": "dyCHDRWuvRyY"
      }
    },
    {
      "cell_type": "code",
      "source": [
        "print(root)\n",
        "print(poetas)\n",
        "\n",
        "#Definimos dos listas, una para guardas los datos de cada página <page> \n",
        "#Y otra para guardar todas la información de todas las páginas\n",
        "\n",
        "page_items = []\n",
        "all_items = []\n",
        "\n",
        "data = []\n",
        "cols = []\n",
        "for i, child in enumerate(root):\n",
        "    data.append([subchild.text for subchild in child])\n",
        "    cols.append(child.tag)\n",
        "\n",
        "#Escribimos los datos en nuestro DataFrame\n",
        "df = pd.DataFrame(data) \n",
        "\n",
        "#Cambiamos los nombres de las columnas\n",
        "df.columns = ['Poet', 'NS', 'id', 'x1', 'x2', 'x3']\n",
        "print(df)\n",
        "\n",
        "#Guardamos en formato parquet como 'Poetas.parquet'\n",
        "df.to_parquet('Poetas.parquet') \n"
      ],
      "metadata": {
        "colab": {
          "base_uri": "https://localhost:8080/"
        },
        "id": "I9Qdcbd2cFqm",
        "outputId": "dd45118b-8ccb-4a20-f186-0a0cd90d6e89"
      },
      "execution_count": 35,
      "outputs": [
        {
          "output_type": "stream",
          "name": "stdout",
          "text": [
            "<Element '{http://www.mediawiki.org/xml/export-0.10/}mediawiki' at 0x7f442b1a38f0>\n",
            "<xml.etree.ElementTree.ElementTree object at 0x7f442d582990>\n",
            "                          Poet      NS  \\\n",
            "0                    Wikipedia  eswiki   \n",
            "1    Julia Morilla de Campbell       0   \n",
            "2                 Luis Negreti       0   \n",
            "3                   Poldy Bird       0   \n",
            "4               Ana María Shua       0   \n",
            "..                         ...     ...   \n",
            "635            Humberto Tejera       0   \n",
            "636          Mario Molina Cruz       0   \n",
            "637      Luis Ignacio Helguera       0   \n",
            "638   Daniel Olivares Viniegra       0   \n",
            "639     Guadalupe Flores Liera       0   \n",
            "\n",
            "                                                  id                       x1  \\\n",
            "0    https://es.wikipedia.org/wiki/Wikipedia:Portada  MediaWiki 1.32.0-wmf.13   \n",
            "1                                            4949229                 \\n         \n",
            "2                                            5105749                 \\n         \n",
            "3                                            4477192                 \\n         \n",
            "4                                             423422                 \\n         \n",
            "..                                               ...                      ...   \n",
            "635                                          7887761                 \\n         \n",
            "636                                          8440353                 \\n         \n",
            "637                                          6449649                 \\n         \n",
            "638                                          8528770                 \\n         \n",
            "639                                          8547651                 \\n         \n",
            "\n",
            "               x2        x3  \n",
            "0    first-letter  \\n        \n",
            "1            None      None  \n",
            "2            None      None  \n",
            "3            None      None  \n",
            "4            None      None  \n",
            "..            ...       ...  \n",
            "635          None      None  \n",
            "636          None      None  \n",
            "637          None      None  \n",
            "638          None      None  \n",
            "639          None      None  \n",
            "\n",
            "[640 rows x 6 columns]\n"
          ]
        }
      ]
    }
  ]
}